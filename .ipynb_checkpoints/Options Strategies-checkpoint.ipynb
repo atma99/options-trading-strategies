{
 "cells": [
  {
   "cell_type": "markdown",
   "metadata": {},
   "source": [
    "# Options Trading Strategies"
   ]
  },
  {
   "cell_type": "code",
   "execution_count": 1,
   "metadata": {},
   "outputs": [],
   "source": [
    "import numpy as np \n",
    "import matplotlib.pyplot as plt"
   ]
  },
  {
   "cell_type": "code",
   "execution_count": 2,
   "metadata": {},
   "outputs": [],
   "source": [
    "import seaborn as sns\n",
    "sns.set()\n",
    "sns.set_style('white')"
   ]
  },
  {
   "cell_type": "markdown",
   "metadata": {},
   "source": [
    "## Bull Call Spreads"
   ]
  },
  {
   "cell_type": "markdown",
   "metadata": {},
   "source": [
    "### Function for plotting Stock Price and P/L"
   ]
  },
  {
   "cell_type": "code",
   "execution_count": 3,
   "metadata": {},
   "outputs": [],
   "source": [
    "def pl_plot_bcs(ITM_sp,OTM_sp,qty_opts,net_debit,max_profit,b_even):\n",
    "\n",
    "    #Creating array of x values (stock prices)\n",
    "    dx = 100    \n",
    "    x = np.linspace(ITM_sp - 2.00, OTM_sp + 2.00, dx)\n",
    "    \n",
    "    #Piecewise function y(x) calculated as \n",
    "    y = np.piecewise(x, [x <= ITM_sp, (x > ITM_sp) * (x < OTM_sp), x >= OTM_sp], \n",
    "                    [net_debit, lambda x: (100 * qty_opts * (x - ITM_sp)) + net_debit,max_profit])\n",
    "    \n",
    "    #Creating array of xtick labels \n",
    "    space = 2\n",
    "    start = ITM_sp - space\n",
    "    stop = OTM_sp + space\n",
    "    step = .5 \n",
    "    x_list = []\n",
    "\n",
    "    while start <= stop: \n",
    "        x_list.append(start)\n",
    "        start = round(start + step,1)\n",
    "    x_list.append(round(b_even,2))\n",
    "    \n",
    "    #Creating figure of the plot\n",
    "    fig = plt.figure(figsize = (10,5))\n",
    "    \n",
    "    #Making axis a subplot and moving it to the 0 position\n",
    "    ax = fig.add_subplot(1, 1, 1)\n",
    "    ax.spines['bottom'].set_position('zero')\n",
    "    \n",
    "    #Setting y_axis limit\n",
    "    if (abs(net_debit) > abs(max_profit)):\n",
    "        ax.set_ylim([1.1 * net_debit, max_profit - (net_debit * .1)])\n",
    "    else:\n",
    "        ax.set_ylim([net_debit - (.1 * max_profit), 1.1 * max_profit])\n",
    "    \n",
    "    #Labelling and creating xticks\n",
    "    plt.xticks(x_list,x_list)\n",
    "    \n",
    "    #Labelling and creating yticks\n",
    "    plt.yticks([0, net_debit, max_profit], [0, round(net_debit,2), round(max_profit,2)])\n",
    "    \n",
    "    #Plotting x,y and setting style\n",
    "    plt.plot(x,y)\n",
    "    \n",
    "    #Creating axis to replace the moved one from the bottom\n",
    "    ax2 = ax.twiny()\n",
    "    ax2.set_xticks([])\n",
    "    \n",
    "    #Displaying plot\n",
    "    plt.show()"
   ]
  },
  {
   "cell_type": "markdown",
   "metadata": {},
   "source": [
    "### Function for the Bull Call Spread"
   ]
  },
  {
   "cell_type": "code",
   "execution_count": 4,
   "metadata": {
    "scrolled": true
   },
   "outputs": [],
   "source": [
    "#In this strategy we BUY ITM CALL(s) and SELL OTM CALL(s)\n",
    "def bcspread():\n",
    "    \n",
    "    #User inputs strike price, qty of options, and premiums\n",
    "    qty_opts = int(input(\"How many options are you buying? \"))\n",
    "\n",
    "    OTM_sp = float(input(\"Enter the strike price of the OTM CALL (higher strike): \"))\n",
    "    ITM_sp = float(input(\"Enter the strike price of the ITM CALL (lower strike): \"))\n",
    "\n",
    "    OTM_pr = float(input(\"Enter the BID of the OTM CALL (higher strike): \"))\n",
    "    ITM_pr = float(input(\"Enter the ASK of the ITM CALL (lower strike): \"))\n",
    "\n",
    "    #TEST VALUES\n",
    "#     qty_opts = 100\n",
    "#     OTM_sp = 12\n",
    "#     ITM_sp = 11.5\n",
    "#     OTM_pr = .33\n",
    "#     ITM_pr = .66\n",
    "\n",
    "    #Calculating and displaying key values\n",
    "    net_debit = (-100 * qty_opts * (ITM_pr - OTM_pr)) - 9.95\n",
    "    b_even = (-net_debit / (qty_opts * 100)) + ITM_sp \n",
    "    max_profit = (qty_opts * 100 * (OTM_sp - b_even)) - 9.95\n",
    "    risk_reward = abs(max_profit / net_debit)\n",
    "            \n",
    "    pl_plot_bcs(ITM_sp,OTM_sp,qty_opts,net_debit,max_profit,b_even)\n",
    "    \n",
    "    print(\n",
    "        \"\\nThe net debit & max loss is:\", round(net_debit,2), \n",
    "        \"\\nThe max profit is:\" , round(max_profit,2),\n",
    "        \"\\nThe breakeven point is:\", round(b_even,2), \n",
    "        \"\\nThe risk/reward is:\", round(risk_reward,2)         \n",
    "    )"
   ]
  },
  {
   "cell_type": "markdown",
   "metadata": {},
   "source": [
    "### Bull Call Spread Calculator"
   ]
  },
  {
   "cell_type": "code",
   "execution_count": 5,
   "metadata": {},
   "outputs": [
    {
     "name": "stdout",
     "output_type": "stream",
     "text": [
      "How many options are you buying? 15\n",
      "Enter the strike price of the OTM CALL (higher strike): 450\n",
      "Enter the strike price of the ITM CALL (lower strike): 400\n",
      "Enter the BID of the OTM CALL (higher strike): 13.2\n",
      "Enter the ASK of the ITM CALL (lower strike): 43.4\n"
     ]
    },
    {
     "data": {
      "image/png": "[encoded data removed]",
      "text/plain": [
       "<Figure size 720x360 with 2 Axes>"
      ]
     },
     "metadata": {},
     "output_type": "display_data"
    },
    {
     "name": "stdout",
     "output_type": "stream",
     "text": [
      "\n",
      "The net debit & max loss is: -45309.95 \n",
      "The max profit is: 29680.1 \n",
      "The breakeven point is: 430.21 \n",
      "The risk/reward is: 0.66\n"
     ]
    }
   ],
   "source": [
    "bcspread() #SHOPIFY Executed"
   ]
  },
  {
   "cell_type": "code",
   "execution_count": 8,
   "metadata": {},
   "outputs": [
    {
     "name": "stdout",
     "output_type": "stream",
     "text": [
      "How many options are you buying? 50\n",
      "Enter the strike price of the OTM CALL (higher strike): 75\n",
      "Enter the strike price of the ITM CALL (lower strike): 72.5\n",
      "Enter the BID of the OTM CALL (higher strike): .03\n",
      "Enter the ASK of the ITM CALL (lower strike): 1.24\n"
     ]
    },
    {
     "data": {
      "image/png": "[encoded data removed]",
      "text/plain": [
       "<Figure size 720x360 with 2 Axes>"
      ]
     },
     "metadata": {},
     "output_type": "display_data"
    },
    {
     "name": "stdout",
     "output_type": "stream",
     "text": [
      "\n",
      "The net debit & max loss is: -6059.95 \n",
      "The max profit is: 6430.1 \n",
      "The breakeven point is: 73.71 \n",
      "The risk/reward is: 1.06\n"
     ]
    }
   ],
   "source": [
    "bcspread() #TD BANK Executed"
   ]
  },
  {
   "cell_type": "code",
   "execution_count": 9,
   "metadata": {},
   "outputs": [
    {
     "name": "stdout",
     "output_type": "stream",
     "text": [
      "How many options are you buying? 50\n",
      "Enter the strike price of the OTM CALL (higher strike): 107\n",
      "Enter the strike price of the ITM CALL (lower strike): 104.5\n",
      "Enter the BID of the OTM CALL (higher strike): .17\n",
      "Enter the ASK of the ITM CALL (lower strike): 1.5\n"
     ]
    },
    {
     "data": {
      "image/png": "[encoded data removed]",
      "text/plain": [
       "<Figure size 720x360 with 2 Axes>"
      ]
     },
     "metadata": {},
     "output_type": "display_data"
    },
    {
     "name": "stdout",
     "output_type": "stream",
     "text": [
      "\n",
      "The net debit & max loss is: -6659.95 \n",
      "The max profit is: 5830.1 \n",
      "The breakeven point is: 105.83 \n",
      "The risk/reward is: 0.88\n"
     ]
    }
   ],
   "source": [
    "bcspread() #Royal Bank EXECUTED"
   ]
  },
  {
   "cell_type": "markdown",
   "metadata": {},
   "source": [
    "## Bear Put Spread"
   ]
  },
  {
   "cell_type": "markdown",
   "metadata": {},
   "source": [
    "### Function for plotting Stock Price and P/L"
   ]
  },
  {
   "cell_type": "code",
   "execution_count": 10,
   "metadata": {},
   "outputs": [],
   "source": [
    "def pl_plot_bps(ITM_sp,OTM_sp,qty_opts,net_debit,max_profit,b_even):\n",
    "    \n",
    "    #Creating array of x values (stock prices)\n",
    "    dx = 100    \n",
    "    x = np.linspace(OTM_sp - 2.00, ITM_sp + 2.00, dx)\n",
    "    \n",
    "    #Piecewise function y(x) calculated as \n",
    "    y = np.piecewise(x, [x <= OTM_sp, (x > OTM_sp) * (x < ITM_sp), x >= ITM_sp], \n",
    "                    [max_profit, lambda x: (100 * qty_opts * (ITM_sp - x)) + net_debit,net_debit])\n",
    "    \n",
    "    #Creating array of xtick labels \n",
    "    space = 2\n",
    "    start = ITM_sp - space\n",
    "    stop = OTM_sp + space\n",
    "    step = .5 \n",
    "    x_list = []\n",
    "\n",
    "    while start <= stop: \n",
    "        x_list.append(start)\n",
    "        start = round(start + step,1)\n",
    "    x_list.append(round(b_even,2))\n",
    "    \n",
    "    #Creating figure of the plot\n",
    "    fig = plt.figure(figsize = (10,5))\n",
    "    \n",
    "    #Making axis a subplot and moving it to the 0 position\n",
    "    ax = fig.add_subplot(1, 1, 1)\n",
    "    ax.spines['bottom'].set_position('zero')\n",
    "    \n",
    "    #Setting y_axis limit\n",
    "    if (abs(net_debit) > abs(max_profit)):\n",
    "        ax.set_ylim([1.1 * net_debit, max_profit - (net_debit * .1)])\n",
    "    else:\n",
    "        ax.set_ylim([net_debit - (.1 * max_profit), 1.1 * max_profit])\n",
    "    \n",
    "    #Labelling and creating xticks\n",
    "    plt.xticks(x_list,x_list)\n",
    "    \n",
    "    #Labelling and creating yticks\n",
    "    plt.yticks([0, net_debit, max_profit], [0, round(net_debit,2), round(max_profit,2)])\n",
    "    \n",
    "    #Plotting x,y \n",
    "    plt.plot(x,y)\n",
    "    \n",
    "    #Creating axis to replace the moved one from the bottom\n",
    "    ax2 = ax.twiny()\n",
    "    ax2.set_xticks([])\n",
    "    \n",
    "    #Displaying plot\n",
    "    plt.show()"
   ]
  },
  {
   "cell_type": "markdown",
   "metadata": {},
   "source": [
    "### Function for the Bear Put Spread"
   ]
  },
  {
   "cell_type": "code",
   "execution_count": 11,
   "metadata": {
    "scrolled": false
   },
   "outputs": [],
   "source": [
    "#In this strategy we BUY ITM PUT(s) and SELL OTM PUT(s)\n",
    "def bpspread():\n",
    "    \n",
    "    #User inputs strike price, qty of options, and premiums\n",
    "    qty_opts = int(input(\"How many options are you buying? \"))\n",
    "\n",
    "    OTM_sp = float(input(\"Enter the strike price of the OTM PUT (lower strike): \"))\n",
    "    ITM_sp = float(input(\"Enter the strike price of the ITM PUT (higher strike): \"))\n",
    "\n",
    "    OTM_pr = float(input(\"Enter the BID of the OTM PUT (lower strike): \"))\n",
    "    ITM_pr = float(input(\"Enter the ASK of the ITM PUT (higher strike): \"))\n",
    "\n",
    "    #TEST VALUES\n",
    "#     qty_opts = 2000\n",
    "#     OTM_sp = 5\n",
    "#     ITM_sp = 6\n",
    "#     OTM_pr = .04\n",
    "#     ITM_pr = .08\n",
    "\n",
    "    #Calculating and displaying key values\n",
    "    net_debit = (-100 * qty_opts * (ITM_pr - OTM_pr)) - 9.95\n",
    "    b_even = (net_debit / (qty_opts * 100)) + ITM_sp \n",
    "    max_profit = (qty_opts * 100 * (b_even - OTM_sp)) - 9.95\n",
    "    risk_reward = abs(max_profit / net_debit)\n",
    "            \n",
    "    pl_plot_bps(ITM_sp,OTM_sp,qty_opts,net_debit,max_profit,b_even)\n",
    "    \n",
    "    print(\n",
    "        \"\\nThe net debit & max loss is:\", round(net_debit,2), \n",
    "        \"\\nThe max profit is:\" , round(max_profit,2),\n",
    "        \"\\nThe breakeven point is:\", round(b_even,2), \n",
    "        \"\\nThe risk/reward is:\", round(risk_reward,2)         \n",
    "    )"
   ]
  },
  {
   "cell_type": "markdown",
   "metadata": {},
   "source": [
    "### Bear Put Spread Calculator"
   ]
  },
  {
   "cell_type": "code",
   "execution_count": null,
   "metadata": {},
   "outputs": [],
   "source": [
    "bpspread()"
   ]
  },
  {
   "cell_type": "markdown",
   "metadata": {},
   "source": [
    "## Long Straddle"
   ]
  },
  {
   "cell_type": "markdown",
   "metadata": {},
   "source": [
    "### Function for plotting Stock Price and P/L"
   ]
  },
  {
   "cell_type": "code",
   "execution_count": null,
   "metadata": {},
   "outputs": [],
   "source": [
    "def pl_plot_ls(ATM_sp,qty_opts,net_debit,b_even_call,b_even_put):\n",
    "    max_profit = -(net_debit * 1.1)\n",
    "    \n",
    "    #Creating array of x values (stock prices)\n",
    "    dx = 100    \n",
    "    x = np.linspace(ATM_sp - 2.00, ATM_sp + 2.00, dx)\n",
    "    \n",
    "    #Piecewise function y(x) calculated as \n",
    "    y = np.piecewise(x, [x < ATM_sp, x == ATM_sp, x > ATM_sp], \n",
    "                    [lambda x: (100 * qty_opts * (ATM_sp - x)) + net_debit, \n",
    "                     net_debit,\n",
    "                     lambda x: (100 * qty_opts * (x - ATM_sp)) + net_debit])\n",
    "    \n",
    "    #Creating array of xtick labels \n",
    "    space = 2\n",
    "    start = ATM_sp - space\n",
    "    stop = ATM_sp + space\n",
    "    step = .5 \n",
    "    x_list = []\n",
    "\n",
    "    while start <= stop: \n",
    "        x_list.append(start)\n",
    "        start = round(start + step,1)\n",
    "    x_list.append(round(b_even_call,2))\n",
    "    x_list.append(round(b_even_put,2))\n",
    "\n",
    "    \n",
    "    #Creating figure of the plot\n",
    "    fig = plt.figure(figsize = (10,5))\n",
    "    \n",
    "    #Making axis a subplot and moving it to the 0 position\n",
    "    ax = fig.add_subplot(1, 1, 1)\n",
    "    ax.spines['bottom'].set_position('zero')\n",
    "    \n",
    "    #Setting y_axis limit   \n",
    "    ax.set_ylim([1.1 * net_debit, max_profit])\n",
    "    \n",
    "    #Labelling and creating xticks\n",
    "    plt.xticks(x_list,x_list)\n",
    "    \n",
    "    #Labelling and creating yticks\n",
    "    plt.yticks([0, net_debit, max_profit], [0, round(net_debit,2), round(max_profit,2)])\n",
    "    \n",
    "    #Plotting x,y \n",
    "    plt.plot(x,y)\n",
    "    \n",
    "    #Creating axis to replace the moved one from the bottom\n",
    "    ax2 = ax.twiny()\n",
    "    ax2.set_xticks([])\n",
    "    \n",
    "    #Displaying plot\n",
    "    plt.show()"
   ]
  },
  {
   "cell_type": "markdown",
   "metadata": {},
   "source": [
    "### Function for Long Straddle"
   ]
  },
  {
   "cell_type": "code",
   "execution_count": null,
   "metadata": {
    "scrolled": true
   },
   "outputs": [],
   "source": [
    "#In this strategy we BUY 1 ATM CALL and 1 ATM PUT at the same strike.\n",
    "def l_straddle(): \n",
    "    #User inputs strike price, qty of options, and premiums\n",
    "    qty_opts = int(input(\"How many options are you buying? \"))\n",
    "\n",
    "    ATM_sp = float(input(\"Enter the ATM strike price of the two options: \"))\n",
    "\n",
    "    CALL_pr = float(input(\"Enter the ASK of the ATM CALL: \"))\n",
    "    PUT_pr = float(input(\"Enter the ASK of the ATM PUT: \"))\n",
    "\n",
    "    #TEST VALUES\n",
    "#     qty_opts = 100\n",
    "#     ATM_sp = 7\n",
    "#     CALL_pr = .20\n",
    "#     PUT_pr = .52\n",
    "\n",
    "    #Calculating and displaying key values\n",
    "    net_debit = (-100 * qty_opts * (CALL_pr + PUT_pr)) - 9.95\n",
    "    b_even_call = (-net_debit / (qty_opts * 100)) + ATM_sp\n",
    "    b_even_put = (net_debit / (qty_opts * 100)) + ATM_sp\n",
    "            \n",
    "    pl_plot_ls(ATM_sp,qty_opts,net_debit,b_even_call,b_even_put)\n",
    "    \n",
    "    print(\n",
    "        \"\\nThe net debit & max loss is:\", round(net_debit,2), \n",
    "        \"\\nThe max profit is unlimited.\",\n",
    "        \"\\nThe call breakeven point is:\", round(b_even_call,2), \n",
    "        \"\\nThe put breakeven point is:\", round(b_even_put,2)         \n",
    "    )"
   ]
  },
  {
   "cell_type": "markdown",
   "metadata": {},
   "source": [
    "### Long Straddle Calculator"
   ]
  },
  {
   "cell_type": "code",
   "execution_count": null,
   "metadata": {},
   "outputs": [],
   "source": [
    "l_straddle()"
   ]
  },
  {
   "cell_type": "markdown",
   "metadata": {},
   "source": [
    "## Iron Condor"
   ]
  },
  {
   "cell_type": "markdown",
   "metadata": {},
   "source": [
    "### Function for plotting Stock Price and P/L"
   ]
  },
  {
   "cell_type": "code",
   "execution_count": 3,
   "metadata": {},
   "outputs": [],
   "source": [
    "def pl_plot_ic(qty_opts, net_credit, max_loss_above, \n",
    "               max_loss_below, long_put_sp, long_call_sp, \n",
    "               short_put_sp, short_call_sp, b_even_above, b_even_below):\n",
    "    \n",
    "    #Creating array of x values (stock prices)\n",
    "    dx = 100    \n",
    "    x = np.linspace(long_put_sp - 2.00, long_call_sp + 2.00, dx)\n",
    "    \n",
    "    #Piecewise function y(x) calculated as \n",
    "    y = np.piecewise(x, [x <= long_put_sp, (x > long_put_sp)*(x < short_put_sp),\n",
    "                         (x >= short_put_sp)*(x <= short_call_sp),\n",
    "                         (x > short_call_sp)*(x < long_call_sp), \n",
    "                         x >= long_call_sp], \n",
    "                    [max_loss_below, \n",
    "                     lambda x: ((net_credit) - (100*qty_opts*(short_put_sp - x))),\n",
    "                     net_credit,\n",
    "                     lambda x: ((net_credit) - (100*qty_opts*(x - short_call_sp))),\n",
    "                     max_loss_above])\n",
    "    \n",
    "    #Creating array of xtick labels \n",
    "    space = 2\n",
    "    start = long_put_sp - space\n",
    "    stop = long_call_sp + space\n",
    "    step = 2\n",
    "    x_list = []\n",
    "\n",
    "    while start <= stop: \n",
    "        x_list.append(start)\n",
    "        start = round(start + step,1)\n",
    "    x_list.append(round(b_even_above,2))\n",
    "    x_list.append(round(b_even_below,2))\n",
    "\n",
    "    \n",
    "    #Creating figure of the plot\n",
    "    fig = plt.figure(figsize = (10,5))\n",
    "    \n",
    "    #Making axis a subplot and moving it to the 0 position\n",
    "    ax = fig.add_subplot(1, 1, 1)\n",
    "    ax.spines['bottom'].set_position('zero')\n",
    "    \n",
    "    #Setting y_axis limits\n",
    "    if net_credit > abs(max_loss_above or max_loss_below):\n",
    "        ax.set_ylim([-1.1 * net_credit, 1.1*net_credit])\n",
    "    elif abs(max_loss_above) > net_credit:\n",
    "        ax.set_ylim([1.1*max_loss_above, -1.1*max_loss_above])\n",
    "    else:\n",
    "        ax.set_ylim([1.1*max_loss_below, -1.1*max_loss_below])\n",
    "\n",
    "    \n",
    "    #Labelling and creating xticks\n",
    "    plt.xticks(x_list,x_list)\n",
    "    \n",
    "    #Labelling and creating yticks\n",
    "    if max_loss_above == max_loss_below:\n",
    "        plt.yticks([0, max_loss_above, net_credit], [0, round(max_loss_above,2), round(net_credit,2)])\n",
    "    else:\n",
    "        plt.yticks([0, max_loss_above, max_loss_below, net_credit], [0, round(max_loss_above,2), round(max_loss_below,2), round(net_credit,2)])\n",
    "            \n",
    "    \n",
    "    #Plotting x,y \n",
    "    plt.plot(x,y)\n",
    "    \n",
    "    #Creating axis to replace the moved one from the bottom\n",
    "    ax2 = ax.twiny()\n",
    "    ax2.set_xticks([])\n",
    "    \n",
    "    #Displaying plot\n",
    "    plt.show()"
   ]
  },
  {
   "cell_type": "markdown",
   "metadata": {},
   "source": [
    "### Function for Iron Condor"
   ]
  },
  {
   "cell_type": "code",
   "execution_count": 4,
   "metadata": {
    "scrolled": true
   },
   "outputs": [],
   "source": [
    "#In this strategy we SELL two OTM options and BUY two further OTM options\n",
    "def i_condor(): \n",
    "    #User inputs strike price, qty of options, and premiums\n",
    "    qty_opts = int(input(\"How many options are you buying? \"))\n",
    "\n",
    "    long_call_sp = float(input(\"Enter the strike price of the long call: \"))\n",
    "    long_put_sp = float(input(\"Enter the strike price of the long put: \"))\n",
    "    short_call_sp = float(input(\"Enter the strike price of the short call: \"))\n",
    "    short_put_sp = float(input(\"Enter the strike price of the short put: \"))\n",
    "\n",
    "    long_call_pr = float(input(\"Enter the premium of the long call: \"))\n",
    "    long_put_pr = float(input(\"Enter the premium of the long put: \"))\n",
    "    short_call_pr = float(input(\"Enter the premium of the short call: \"))\n",
    "    short_put_pr = float(input(\"Enter the premium of the short put: \"))   \n",
    "    \n",
    "    #TEST VALUES\n",
    "#     qty_opts = 1.0\n",
    "#     long_call_sp, long_put_sp = 60.0, 45.0\n",
    "#     short_call_sp, short_put_sp = 55.0, 50.0\n",
    "#     long_call_pr, long_put_pr = 1.01, 0.78\n",
    "#     short_call_pr, short_put_pr = 2.32, 2.21   \n",
    "    \n",
    "    #Calculating net premiums received/paid\n",
    "    pr_received = 100 * qty_opts * (short_call_pr + short_put_pr)\n",
    "    pr_paid = 100 * qty_opts * (long_call_pr + long_put_pr)\n",
    "    \n",
    "    #Calculating and displaying key values\n",
    "    net_credit = ((pr_received - pr_paid)) - (4*9.95)\n",
    "    max_loss_above = net_credit - (qty_opts*100*(long_call_sp - short_call_sp))\n",
    "    max_loss_below = net_credit - (qty_opts*100*(short_put_sp - long_put_sp))\n",
    "    b_even_above = short_call_sp + (net_credit/(100*qty_opts))\n",
    "    b_even_below = short_put_sp - (net_credit/(100*qty_opts))         \n",
    "    print(\n",
    "        \"\\nThe net credit & max profit is:\", round(net_credit,2), \n",
    "        \"\\nThe max loss if stock price rises is:\", round(max_loss_above, 2),\n",
    "        \"\\nThe max loss if stock price falls is:\", round(max_loss_below, 2),\n",
    "        \"\\nThe breakeven points are:\", round(b_even_above,2), \n",
    "        \"and\", round(b_even_below,2) \n",
    "    )    \n",
    "    \n",
    "    #Graphing P/L\n",
    "    pl_plot_ic(qty_opts, net_credit, max_loss_above, \n",
    "               max_loss_below, long_put_sp, long_call_sp, \n",
    "               short_put_sp, short_call_sp, b_even_above, b_even_below)"
   ]
  },
  {
   "cell_type": "markdown",
   "metadata": {},
   "source": [
    "### Iron Condor Calculator"
   ]
  },
  {
   "cell_type": "code",
   "execution_count": null,
   "metadata": {},
   "outputs": [],
   "source": [
    "i_condor()"
   ]
  }
 ],
 "metadata": {
  "kernelspec": {
   "display_name": "Python 3",
   "language": "python",
   "name": "python3"
  },
  "language_info": {
   "codemirror_mode": {
    "name": "ipython",
    "version": 3
   },
   "file_extension": ".py",
   "mimetype": "text/x-python",
   "name": "python",
   "nbconvert_exporter": "python",
   "pygments_lexer": "ipython3",
   "version": "3.7.3"
  }
 },
 "nbformat": 4,
 "nbformat_minor": 2
}
